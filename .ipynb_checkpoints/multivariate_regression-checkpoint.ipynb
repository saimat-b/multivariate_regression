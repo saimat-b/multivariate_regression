{
 "cells": [
  {
   "cell_type": "markdown",
   "id": "b51a3c0c",
   "metadata": {},
   "source": [
    "# Marketing Multivariate Regression\n",
    "\n",
    "*Saimat Balabekova*\n",
    "<img src=\"https://images.unsplash.com/photo-1567401893414-76b7b1e5a7a5?ixid=MnwxMjA3fDB8MHxzZWFyY2h8Mnx8Y2xvdGhlcyUyMHNob3B8ZW58MHx8MHx8&ixlib=rb-1.2.1&w=1000&q=80\" width=\"300\" height=\"auto\" style=\"border-radius:50%\">\n",
    "\n",
    "<div style=\"text-align: justify\"> \n",
    "\n",
    "**Obejctive:** </div>  "
   ]
  },
  {
   "cell_type": "code",
   "execution_count": 1,
   "id": "35f8d467",
   "metadata": {},
   "outputs": [],
   "source": [
    "import numpy as np\n",
    "import pandas as pd\n",
    "import matplotlib.pyplot as plt\n",
    "from sklearn.linear_model import LinearRegression\n",
    "from sklearn.model_selection import train_test_split"
   ]
  },
  {
   "cell_type": "markdown",
   "id": "9c92b93a",
   "metadata": {},
   "source": [
    "## Dataset Overview"
   ]
  },
  {
   "cell_type": "code",
   "execution_count": 2,
   "id": "f7de5cbf",
   "metadata": {},
   "outputs": [
    {
     "data": {
      "text/html": [
       "<div>\n",
       "<style scoped>\n",
       "    .dataframe tbody tr th:only-of-type {\n",
       "        vertical-align: middle;\n",
       "    }\n",
       "\n",
       "    .dataframe tbody tr th {\n",
       "        vertical-align: top;\n",
       "    }\n",
       "\n",
       "    .dataframe thead th {\n",
       "        text-align: right;\n",
       "    }\n",
       "</style>\n",
       "<table border=\"1\" class=\"dataframe\">\n",
       "  <thead>\n",
       "    <tr style=\"text-align: right;\">\n",
       "      <th></th>\n",
       "      <th>NewVolSales</th>\n",
       "      <th>Base_Price</th>\n",
       "      <th>Radio</th>\n",
       "      <th>InStore</th>\n",
       "      <th>NewspaperInserts</th>\n",
       "      <th>Discount</th>\n",
       "      <th>TV</th>\n",
       "      <th>Stout</th>\n",
       "      <th>Website_Campaign</th>\n",
       "    </tr>\n",
       "  </thead>\n",
       "  <tbody>\n",
       "    <tr>\n",
       "      <th>0</th>\n",
       "      <td>19564</td>\n",
       "      <td>15.029276</td>\n",
       "      <td>245.0</td>\n",
       "      <td>15.452</td>\n",
       "      <td>NaN</td>\n",
       "      <td>0.000</td>\n",
       "      <td>101.780000</td>\n",
       "      <td>2.28342</td>\n",
       "      <td>NaN</td>\n",
       "    </tr>\n",
       "    <tr>\n",
       "      <th>1</th>\n",
       "      <td>19387</td>\n",
       "      <td>15.029276</td>\n",
       "      <td>314.0</td>\n",
       "      <td>16.388</td>\n",
       "      <td>NaN</td>\n",
       "      <td>0.000</td>\n",
       "      <td>76.734000</td>\n",
       "      <td>2.22134</td>\n",
       "      <td>NaN</td>\n",
       "    </tr>\n",
       "    <tr>\n",
       "      <th>2</th>\n",
       "      <td>23889</td>\n",
       "      <td>14.585093</td>\n",
       "      <td>324.0</td>\n",
       "      <td>62.692</td>\n",
       "      <td>NaN</td>\n",
       "      <td>0.050</td>\n",
       "      <td>131.590200</td>\n",
       "      <td>2.00604</td>\n",
       "      <td>NaN</td>\n",
       "    </tr>\n",
       "    <tr>\n",
       "      <th>3</th>\n",
       "      <td>20055</td>\n",
       "      <td>15.332887</td>\n",
       "      <td>298.0</td>\n",
       "      <td>16.573</td>\n",
       "      <td>NaN</td>\n",
       "      <td>0.000</td>\n",
       "      <td>119.627060</td>\n",
       "      <td>2.19897</td>\n",
       "      <td>NaN</td>\n",
       "    </tr>\n",
       "    <tr>\n",
       "      <th>4</th>\n",
       "      <td>20064</td>\n",
       "      <td>15.642632</td>\n",
       "      <td>279.0</td>\n",
       "      <td>41.504</td>\n",
       "      <td>NaN</td>\n",
       "      <td>0.045</td>\n",
       "      <td>103.438118</td>\n",
       "      <td>1.81860</td>\n",
       "      <td>NaN</td>\n",
       "    </tr>\n",
       "  </tbody>\n",
       "</table>\n",
       "</div>"
      ],
      "text/plain": [
       "   NewVolSales  Base_Price  Radio   InStore NewspaperInserts  Discount  \\\n",
       "0        19564   15.029276   245.0   15.452              NaN     0.000   \n",
       "1        19387   15.029276   314.0   16.388              NaN     0.000   \n",
       "2        23889   14.585093   324.0   62.692              NaN     0.050   \n",
       "3        20055   15.332887   298.0   16.573              NaN     0.000   \n",
       "4        20064   15.642632   279.0   41.504              NaN     0.045   \n",
       "\n",
       "           TV    Stout Website_Campaign   \n",
       "0  101.780000  2.28342               NaN  \n",
       "1   76.734000  2.22134               NaN  \n",
       "2  131.590200  2.00604               NaN  \n",
       "3  119.627060  2.19897               NaN  \n",
       "4  103.438118  1.81860               NaN  "
      ]
     },
     "execution_count": 2,
     "metadata": {},
     "output_type": "execute_result"
    }
   ],
   "source": [
    "df = pd.read_csv(\"mktmix.csv\")\n",
    "df.head()"
   ]
  },
  {
   "cell_type": "code",
   "execution_count": 3,
   "id": "267f586c",
   "metadata": {},
   "outputs": [
    {
     "data": {
      "text/plain": [
       "(104, 9)"
      ]
     },
     "execution_count": 3,
     "metadata": {},
     "output_type": "execute_result"
    }
   ],
   "source": [
    "df.shape"
   ]
  },
  {
   "cell_type": "markdown",
   "id": "ba462ead",
   "metadata": {},
   "source": [
    "We can see that the dataset is not very large but its a good amount to demonstrate multivariate regression nicely"
   ]
  },
  {
   "cell_type": "code",
   "execution_count": 4,
   "id": "1794442d",
   "metadata": {},
   "outputs": [
    {
     "data": {
      "text/html": [
       "<div>\n",
       "<style scoped>\n",
       "    .dataframe tbody tr th:only-of-type {\n",
       "        vertical-align: middle;\n",
       "    }\n",
       "\n",
       "    .dataframe tbody tr th {\n",
       "        vertical-align: top;\n",
       "    }\n",
       "\n",
       "    .dataframe thead th {\n",
       "        text-align: right;\n",
       "    }\n",
       "</style>\n",
       "<table border=\"1\" class=\"dataframe\">\n",
       "  <thead>\n",
       "    <tr style=\"text-align: right;\">\n",
       "      <th></th>\n",
       "      <th>NewVolSales</th>\n",
       "      <th>Base_Price</th>\n",
       "      <th>Radio</th>\n",
       "      <th>InStore</th>\n",
       "      <th>Discount</th>\n",
       "      <th>TV</th>\n",
       "      <th>Stout</th>\n",
       "    </tr>\n",
       "  </thead>\n",
       "  <tbody>\n",
       "    <tr>\n",
       "      <th>count</th>\n",
       "      <td>104.000000</td>\n",
       "      <td>104.000000</td>\n",
       "      <td>100.000000</td>\n",
       "      <td>104.000000</td>\n",
       "      <td>104.000000</td>\n",
       "      <td>104.000000</td>\n",
       "      <td>104.000000</td>\n",
       "    </tr>\n",
       "    <tr>\n",
       "      <th>mean</th>\n",
       "      <td>20171.067308</td>\n",
       "      <td>15.306740</td>\n",
       "      <td>256.690000</td>\n",
       "      <td>32.918567</td>\n",
       "      <td>0.022059</td>\n",
       "      <td>141.009774</td>\n",
       "      <td>2.545966</td>\n",
       "    </tr>\n",
       "    <tr>\n",
       "      <th>std</th>\n",
       "      <td>1578.604670</td>\n",
       "      <td>0.528902</td>\n",
       "      <td>86.994682</td>\n",
       "      <td>13.682570</td>\n",
       "      <td>0.027668</td>\n",
       "      <td>42.949231</td>\n",
       "      <td>0.310070</td>\n",
       "    </tr>\n",
       "    <tr>\n",
       "      <th>min</th>\n",
       "      <td>17431.000000</td>\n",
       "      <td>13.735724</td>\n",
       "      <td>0.000000</td>\n",
       "      <td>10.782000</td>\n",
       "      <td>0.000000</td>\n",
       "      <td>37.656174</td>\n",
       "      <td>1.818600</td>\n",
       "    </tr>\n",
       "    <tr>\n",
       "      <th>25%</th>\n",
       "      <td>19048.750000</td>\n",
       "      <td>15.029276</td>\n",
       "      <td>235.000000</td>\n",
       "      <td>22.183750</td>\n",
       "      <td>0.000000</td>\n",
       "      <td>117.108343</td>\n",
       "      <td>2.316450</td>\n",
       "    </tr>\n",
       "    <tr>\n",
       "      <th>50%</th>\n",
       "      <td>19943.500000</td>\n",
       "      <td>15.332887</td>\n",
       "      <td>278.500000</td>\n",
       "      <td>31.161500</td>\n",
       "      <td>0.000000</td>\n",
       "      <td>138.581542</td>\n",
       "      <td>2.502120</td>\n",
       "    </tr>\n",
       "    <tr>\n",
       "      <th>75%</th>\n",
       "      <td>20942.750000</td>\n",
       "      <td>15.642632</td>\n",
       "      <td>313.250000</td>\n",
       "      <td>41.079000</td>\n",
       "      <td>0.049423</td>\n",
       "      <td>175.681780</td>\n",
       "      <td>2.814315</td>\n",
       "    </tr>\n",
       "    <tr>\n",
       "      <th>max</th>\n",
       "      <td>24944.000000</td>\n",
       "      <td>16.281020</td>\n",
       "      <td>399.000000</td>\n",
       "      <td>68.119000</td>\n",
       "      <td>0.090763</td>\n",
       "      <td>240.291967</td>\n",
       "      <td>3.158620</td>\n",
       "    </tr>\n",
       "  </tbody>\n",
       "</table>\n",
       "</div>"
      ],
      "text/plain": [
       "        NewVolSales  Base_Price      Radio      InStore    Discount  \\\n",
       "count    104.000000  104.000000  100.000000  104.000000  104.000000   \n",
       "mean   20171.067308   15.306740  256.690000   32.918567    0.022059   \n",
       "std     1578.604670    0.528902   86.994682   13.682570    0.027668   \n",
       "min    17431.000000   13.735724    0.000000   10.782000    0.000000   \n",
       "25%    19048.750000   15.029276  235.000000   22.183750    0.000000   \n",
       "50%    19943.500000   15.332887  278.500000   31.161500    0.000000   \n",
       "75%    20942.750000   15.642632  313.250000   41.079000    0.049423   \n",
       "max    24944.000000   16.281020  399.000000   68.119000    0.090763   \n",
       "\n",
       "               TV       Stout  \n",
       "count  104.000000  104.000000  \n",
       "mean   141.009774    2.545966  \n",
       "std     42.949231    0.310070  \n",
       "min     37.656174    1.818600  \n",
       "25%    117.108343    2.316450  \n",
       "50%    138.581542    2.502120  \n",
       "75%    175.681780    2.814315  \n",
       "max    240.291967    3.158620  "
      ]
     },
     "execution_count": 4,
     "metadata": {},
     "output_type": "execute_result"
    }
   ],
   "source": [
    "df.describe()"
   ]
  },
  {
   "cell_type": "markdown",
   "id": "034802cb",
   "metadata": {},
   "source": [
    "From this we see that the Radio count is 4 less than the other ones signifying missing values which we need to account for"
   ]
  },
  {
   "cell_type": "code",
   "execution_count": 5,
   "id": "497f0082",
   "metadata": {},
   "outputs": [
    {
     "name": "stdout",
     "output_type": "stream",
     "text": [
      "<class 'pandas.core.frame.DataFrame'>\n",
      "RangeIndex: 104 entries, 0 to 103\n",
      "Data columns (total 9 columns):\n",
      " #   Column             Non-Null Count  Dtype  \n",
      "---  ------             --------------  -----  \n",
      " 0   NewVolSales        104 non-null    int64  \n",
      " 1   Base_Price         104 non-null    float64\n",
      " 2   Radio              100 non-null    float64\n",
      " 3   InStore            104 non-null    float64\n",
      " 4   NewspaperInserts   6 non-null      object \n",
      " 5   Discount           104 non-null    float64\n",
      " 6   TV                 104 non-null    float64\n",
      " 7   Stout              104 non-null    float64\n",
      " 8   Website_Campaign   14 non-null     object \n",
      "dtypes: float64(6), int64(1), object(2)\n",
      "memory usage: 7.4+ KB\n"
     ]
    }
   ],
   "source": [
    "df.info()"
   ]
  },
  {
   "cell_type": "markdown",
   "id": "84780aa9",
   "metadata": {},
   "source": [
    "We also have Null values in NewspaperInserts, Website_Campaign and Radio"
   ]
  },
  {
   "cell_type": "code",
   "execution_count": 6,
   "id": "31058907",
   "metadata": {},
   "outputs": [
    {
     "data": {
      "text/plain": [
       "Text(0.5, 1.0, 'Sales Volume Distribution')"
      ]
     },
     "execution_count": 6,
     "metadata": {},
     "output_type": "execute_result"
    },
    {
     "data": {
      "image/png": "[encoded data removed]",
      "text/plain": [
       "<Figure size 432x288 with 1 Axes>"
      ]
     },
     "metadata": {
      "needs_background": "light"
     },
     "output_type": "display_data"
    }
   ],
   "source": [
    "plt.hist(df[\"NewVolSales\"])\n",
    "plt.ylabel(\"Frequency\")\n",
    "plt.xlabel(\"Volume of Sales\")\n",
    "plt.title(\"Sales Volume Distribution\")"
   ]
  },
  {
   "cell_type": "code",
   "execution_count": 7,
   "id": "38e3293b",
   "metadata": {},
   "outputs": [
    {
     "name": "stdout",
     "output_type": "stream",
     "text": [
      "Mean: 20171.06730769231\n",
      "Skew: 0.972983240144776\n"
     ]
    }
   ],
   "source": [
    "print(\"Mean: \" + str(df[\"NewVolSales\"].mean()))\n",
    "print(\"Skew: \" + str(df[\"NewVolSales\"].skew()))"
   ]
  },
  {
   "cell_type": "markdown",
   "id": "b52ae5ff",
   "metadata": {},
   "source": [
    "From this we can see that the sales volume follows a distribution with a mean at 20171 sales and a skewness of 0.97. Therefore we can easily say that the distribution is not symmetric."
   ]
  },
  {
   "cell_type": "markdown",
   "id": "1c8c5c29",
   "metadata": {},
   "source": [
    "## Independent Variables"
   ]
  },
  {
   "cell_type": "code",
   "execution_count": 8,
   "id": "3c343238",
   "metadata": {},
   "outputs": [
    {
     "data": {
      "image/png": "[encoded data removed]",
      "text/plain": [
       "<Figure size 864x576 with 9 Axes>"
      ]
     },
     "metadata": {
      "needs_background": "light"
     },
     "output_type": "display_data"
    }
   ],
   "source": [
    "df.hist(figsize = (12,8), bins = 10, xlabelsize = 8, ylabelsize = 8);"
   ]
  },
  {
   "cell_type": "markdown",
   "id": "7ea54c37",
   "metadata": {},
   "source": [
    "From these we can see all of the distributions. In particular we can see that **Discount** and **Radio** have a high frequency at 0. Although this may seem like an outlier, this could be justified by the fact that most items are not discounted and that Radio Promotion was not used frequently. We now need to clean the data and treat the missing values."
   ]
  },
  {
   "cell_type": "markdown",
   "id": "4fb26291",
   "metadata": {},
   "source": [
    "## Data Cleaning"
   ]
  },
  {
   "cell_type": "markdown",
   "id": "41a497ba",
   "metadata": {},
   "source": [
    "Here we found that NewVolSales, Base_Price, Radio, InStore, Discount, TV, Stout are the numeric columns so we can drop the eliminate columns containing categorical data."
   ]
  },
  {
   "cell_type": "code",
   "execution_count": 9,
   "id": "e8517fd2",
   "metadata": {},
   "outputs": [
    {
     "data": {
      "text/html": [
       "<div>\n",
       "<style scoped>\n",
       "    .dataframe tbody tr th:only-of-type {\n",
       "        vertical-align: middle;\n",
       "    }\n",
       "\n",
       "    .dataframe tbody tr th {\n",
       "        vertical-align: top;\n",
       "    }\n",
       "\n",
       "    .dataframe thead th {\n",
       "        text-align: right;\n",
       "    }\n",
       "</style>\n",
       "<table border=\"1\" class=\"dataframe\">\n",
       "  <thead>\n",
       "    <tr style=\"text-align: right;\">\n",
       "      <th></th>\n",
       "      <th>NewVolSales</th>\n",
       "      <th>Base_Price</th>\n",
       "      <th>Radio</th>\n",
       "      <th>InStore</th>\n",
       "      <th>Discount</th>\n",
       "      <th>TV</th>\n",
       "      <th>Stout</th>\n",
       "    </tr>\n",
       "  </thead>\n",
       "  <tbody>\n",
       "    <tr>\n",
       "      <th>0</th>\n",
       "      <td>19564</td>\n",
       "      <td>15.029276</td>\n",
       "      <td>245.0</td>\n",
       "      <td>15.452</td>\n",
       "      <td>0.000</td>\n",
       "      <td>101.780000</td>\n",
       "      <td>2.28342</td>\n",
       "    </tr>\n",
       "    <tr>\n",
       "      <th>1</th>\n",
       "      <td>19387</td>\n",
       "      <td>15.029276</td>\n",
       "      <td>314.0</td>\n",
       "      <td>16.388</td>\n",
       "      <td>0.000</td>\n",
       "      <td>76.734000</td>\n",
       "      <td>2.22134</td>\n",
       "    </tr>\n",
       "    <tr>\n",
       "      <th>2</th>\n",
       "      <td>23889</td>\n",
       "      <td>14.585093</td>\n",
       "      <td>324.0</td>\n",
       "      <td>62.692</td>\n",
       "      <td>0.050</td>\n",
       "      <td>131.590200</td>\n",
       "      <td>2.00604</td>\n",
       "    </tr>\n",
       "    <tr>\n",
       "      <th>3</th>\n",
       "      <td>20055</td>\n",
       "      <td>15.332887</td>\n",
       "      <td>298.0</td>\n",
       "      <td>16.573</td>\n",
       "      <td>0.000</td>\n",
       "      <td>119.627060</td>\n",
       "      <td>2.19897</td>\n",
       "    </tr>\n",
       "    <tr>\n",
       "      <th>4</th>\n",
       "      <td>20064</td>\n",
       "      <td>15.642632</td>\n",
       "      <td>279.0</td>\n",
       "      <td>41.504</td>\n",
       "      <td>0.045</td>\n",
       "      <td>103.438118</td>\n",
       "      <td>1.81860</td>\n",
       "    </tr>\n",
       "  </tbody>\n",
       "</table>\n",
       "</div>"
      ],
      "text/plain": [
       "   NewVolSales  Base_Price  Radio   InStore  Discount          TV    Stout\n",
       "0        19564   15.029276   245.0   15.452     0.000  101.780000  2.28342\n",
       "1        19387   15.029276   314.0   16.388     0.000   76.734000  2.22134\n",
       "2        23889   14.585093   324.0   62.692     0.050  131.590200  2.00604\n",
       "3        20055   15.332887   298.0   16.573     0.000  119.627060  2.19897\n",
       "4        20064   15.642632   279.0   41.504     0.045  103.438118  1.81860"
      ]
     },
     "execution_count": 9,
     "metadata": {},
     "output_type": "execute_result"
    }
   ],
   "source": [
    "df_numeric = df.drop([\"NewspaperInserts\",\"Website_Campaign \"],axis=1)\n",
    "df_numeric.head()"
   ]
  },
  {
   "cell_type": "code",
   "execution_count": 10,
   "id": "174fe79b",
   "metadata": {},
   "outputs": [
    {
     "data": {
      "text/plain": [
       "NewVolSales    0\n",
       "Base_Price     0\n",
       "Radio          4\n",
       "InStore        0\n",
       "Discount       0\n",
       "TV             0\n",
       "Stout          0\n",
       "dtype: int64"
      ]
     },
     "execution_count": 10,
     "metadata": {},
     "output_type": "execute_result"
    }
   ],
   "source": [
    "df_numeric.isnull().sum()"
   ]
  },
  {
   "cell_type": "markdown",
   "id": "6843a81d",
   "metadata": {},
   "source": [
    "Now we see that the only column missing values is Radio. We can fill this with the mean of the column"
   ]
  },
  {
   "cell_type": "code",
   "execution_count": 11,
   "id": "3826b248",
   "metadata": {},
   "outputs": [],
   "source": [
    "df_numeric[\"Radio \"] = df_numeric[\"Radio \"].fillna(df_numeric['Radio '].mean())"
   ]
  },
  {
   "cell_type": "code",
   "execution_count": 12,
   "id": "e5d27564",
   "metadata": {},
   "outputs": [
    {
     "data": {
      "text/plain": [
       "NewVolSales    0\n",
       "Base_Price     0\n",
       "Radio          0\n",
       "InStore        0\n",
       "Discount       0\n",
       "TV             0\n",
       "Stout          0\n",
       "dtype: int64"
      ]
     },
     "execution_count": 12,
     "metadata": {},
     "output_type": "execute_result"
    }
   ],
   "source": [
    "df_numeric.isnull().sum()"
   ]
  },
  {
   "cell_type": "markdown",
   "id": "a04fa96f",
   "metadata": {},
   "source": [
    "There are no missing values, and the outliers have been accounted for. This means we can now split this data and train our model."
   ]
  },
  {
   "cell_type": "markdown",
   "id": "3720d918",
   "metadata": {},
   "source": [
    "## Multivariate Regression"
   ]
  },
  {
   "cell_type": "markdown",
   "id": "5a43c562",
   "metadata": {},
   "source": [
    "First we can split this into our X (independent variables) and y (dependent variables). Then we can plot their relationship to the Sales Volume."
   ]
  },
  {
   "cell_type": "code",
   "execution_count": 21,
   "id": "b22674d9",
   "metadata": {},
   "outputs": [],
   "source": [
    "X = df_numeric.iloc[:,1:6]\n",
    "y = df_numeric.iloc[:,0]"
   ]
  },
  {
   "cell_type": "code",
   "execution_count": 22,
   "id": "82995661",
   "metadata": {},
   "outputs": [
    {
     "data": {
      "image/png": "[encoded data removed]",
      "text/plain": [
       "<Figure size 936x576 with 5 Axes>"
      ]
     },
     "metadata": {
      "needs_background": "light"
     },
     "output_type": "display_data"
    }
   ],
   "source": [
    "fig = plt.figure(figsize=(13,8))\n",
    "for i, var in enumerate(list(X.columns)):\n",
    "    ax = fig.add_subplot(3,3,i+1)\n",
    "    x = df.loc[:,var]\n",
    "    ax.scatter(x, y)\n",
    "    ax.set_xlabel(\"{}\".format(var))\n",
    "    ax.set_ylabel(\"Sales Volume\")\n",
    "    ax.set_title(var +\" vs Sales Volume\")\n",
    "fig.tight_layout() \n",
    "plt.show()"
   ]
  },
  {
   "cell_type": "markdown",
   "id": "a099bf20",
   "metadata": {},
   "source": [
    "Here we see a negative relationship between the Base_Price and the Sales Volume as well as a positive relationship with the InStore column. Now that we have a good idea of the relationship each variable has with the Sales Volume. We can start by splitting the data."
   ]
  },
  {
   "cell_type": "code",
   "execution_count": 23,
   "id": "1d1c17e9",
   "metadata": {},
   "outputs": [],
   "source": [
    "X_train, X_test, y_train, y_test = train_test_split(X, y, test_size=0.20, random_state=456)"
   ]
  },
  {
   "cell_type": "code",
   "execution_count": 24,
   "id": "224db3de",
   "metadata": {},
   "outputs": [
    {
     "data": {
      "text/plain": [
       "LinearRegression()"
      ]
     },
     "execution_count": 24,
     "metadata": {},
     "output_type": "execute_result"
    }
   ],
   "source": [
    "lr = LinearRegression()\n",
    "lr.fit(X_train,y_train)"
   ]
  },
  {
   "cell_type": "markdown",
   "id": "886b04bf",
   "metadata": {},
   "source": [
    "Now the model is trained and we can assess its accuracy and use it for further predictions. We can start with the R^2."
   ]
  },
  {
   "cell_type": "code",
   "execution_count": 25,
   "id": "bcb16b19",
   "metadata": {},
   "outputs": [
    {
     "data": {
      "text/plain": [
       "0.6558383060601896"
      ]
     },
     "execution_count": 25,
     "metadata": {},
     "output_type": "execute_result"
    }
   ],
   "source": [
    "lr.score(X,y)"
   ]
  },
  {
   "cell_type": "markdown",
   "id": "8eab7b9a",
   "metadata": {},
   "source": [
    "The R^2 value is around 0.66 which is rather low however considering the type of data we are dealing with, it is satifactory."
   ]
  },
  {
   "cell_type": "markdown",
   "id": "80743252",
   "metadata": {},
   "source": [
    "As previously mentioned, there is a strong negative relationship between the Sales Volume and the Base_Price. We can visualise this dimension of the model by plotting a line of best fit."
   ]
  },
  {
   "cell_type": "code",
   "execution_count": 26,
   "id": "b026a30d",
   "metadata": {
    "scrolled": true
   },
   "outputs": [
    {
     "data": {
      "text/plain": [
       "[<matplotlib.lines.Line2D at 0x202af29ebc0>]"
      ]
     },
     "execution_count": 26,
     "metadata": {},
     "output_type": "execute_result"
    },
    {
     "data": {
      "image/png": "[encoded data removed]",
      "text/plain": [
       "<Figure size 432x288 with 1 Axes>"
      ]
     },
     "metadata": {
      "needs_background": "light"
     },
     "output_type": "display_data"
    }
   ],
   "source": [
    "# The coefficients for the line of best fit of the Base_Price against the Sales Volume\n",
    "gradient = lr.coef_[0]\n",
    "intercept = lr.intercept_\n",
    "\n",
    "x_line = np.arange(min(X[\"Base_Price\"]),max(X[\"Base_Price\"]))\n",
    "y_line = gradient*x_line + intercept\n",
    "\n",
    "plt.plot(X[\"Base_Price\"],y,\"k.\")\n",
    "plt.plot(x_line,y_line,)"
   ]
  },
  {
   "cell_type": "markdown",
   "id": "74c5c763",
   "metadata": {},
   "source": [
    "As we can see here the line of best fit misses the data by a significant amount. This is due to the poor choice of independent variables. In order to remedy this, we should be more rigorous with choosing our independent variables. For example, I suspect that the Discounts variable had a negative impact on the accuracy of this line as it had a lot of values at 0."
   ]
  },
  {
   "cell_type": "markdown",
   "id": "d02373d4",
   "metadata": {},
   "source": [
    "Nevertheless this model can still be used for prediction as it follows the correct trend. Below is an example of a prediction made by the model."
   ]
  },
  {
   "cell_type": "code",
   "execution_count": 30,
   "id": "e6366fec",
   "metadata": {},
   "outputs": [
    {
     "name": "stderr",
     "output_type": "stream",
     "text": [
      "C:\\Users\\saima\\AppData\\Local\\Programs\\Python\\Python310\\lib\\site-packages\\sklearn\\base.py:445: UserWarning: X does not have valid feature names, but LinearRegression was fitted with feature names\n",
      "  warnings.warn(\n"
     ]
    },
    {
     "data": {
      "text/plain": [
       "array([24823.37030261])"
      ]
     },
     "execution_count": 30,
     "metadata": {},
     "output_type": "execute_result"
    }
   ],
   "source": [
    "lr.predict([[13,210,26,0.06,175]])"
   ]
  },
  {
   "cell_type": "markdown",
   "id": "6631a801",
   "metadata": {},
   "source": [
    "We see that for average values of the input parameters we get a prediction order of magnitude. "
   ]
  }
 ],
 "metadata": {
  "kernelspec": {
   "display_name": "Python 3 (ipykernel)",
   "language": "python",
   "name": "python3"
  },
  "language_info": {
   "codemirror_mode": {
    "name": "ipython",
    "version": 3
   },
   "file_extension": ".py",
   "mimetype": "text/x-python",
   "name": "python",
   "nbconvert_exporter": "python",
   "pygments_lexer": "ipython3",
   "version": "3.10.0"
  }
 },
 "nbformat": 4,
 "nbformat_minor": 5
}
